{
 "cells": [
  {
   "cell_type": "markdown",
   "metadata": {},
   "source": [
    "## Dataset Preprocessing"
   ]
  },
  {
   "cell_type": "markdown",
   "metadata": {},
   "source": [
    "we will use the BTC-USD, LTC-USD, ETH-USD and BCH-USD datasets to train our model, however it is necessary to perform\n",
    "data preprocessing before actually feed our model "
   ]
  },
  {
   "cell_type": "code",
   "execution_count": 17,
   "metadata": {},
   "outputs": [
    {
     "name": "stdout",
     "output_type": "stream",
     "text": [
      "         time        low       high       open      close      volume\n",
      "0  1528968660  96.580002  96.589996  96.589996  96.580002    9.647200\n",
      "1  1528968720  96.449997  96.669998  96.589996  96.660004  314.387024\n",
      "2  1528968780  96.470001  96.570000  96.570000  96.570000   77.129799\n",
      "3  1528968840  96.449997  96.570000  96.570000  96.500000    7.216067\n",
      "4  1528968900  96.279999  96.540001  96.500000  96.389999  524.539978\n"
     ]
    }
   ],
   "source": [
    "import pandas as pd\n",
    "\n",
    "# Test if we can actually read the data from the dataset folder:\n",
    "\n",
    "dataset = pd.read_csv(\"Datasets/LTC-USD.csv\", names=['time', 'low', 'high', 'open', 'close', 'volume'])\n",
    "print(dataset.head())"
   ]
  },
  {
   "cell_type": "code",
   "execution_count": 18,
   "metadata": {},
   "outputs": [],
   "source": [
    "# Define a Function to select only \"close\" and \"volume\" columns\n",
    "# then merge in a unique dataframe\n",
    "ratios = [\"BTC-USD\", \"LTC-USD\", \"BCH-USD\", \"ETH-USD\"]\n",
    "path = \"Datasets/\"\n",
    "\n",
    "dataset = pd.DataFrame()\n",
    "\n",
    "def merge_datasets(ratios, path, dataset_merge):\n",
    "    \n",
    "    # Read datasets from the path\n",
    "    for ratio in ratios:\n",
    "        #Set the path to each cryptocurency dataset and read them:\n",
    "        dataset_path = path+f'{ratio}.csv'\n",
    "        dataset = pd.read_csv(dataset_path, names=['time', f'{ratio}_low', f'{ratio}_high', f'{ratio}_open', f'{ratio}_close', f'{ratio}_volume'])\n",
    "        \n",
    "        # take only \"close\" and \"volume\" columns from each crypto dataset:\n",
    "        dataset.set_index(\"time\", inplace=True) #since time is a common value for each dataset, we define it as the index \n",
    "        dataset_close_vol = dataset[[f'{ratio}_close', f'{ratio}_volume']] # take close and volume\n",
    "        \n",
    "        # merge values:\n",
    "        if len(dataset_merge)==0:\n",
    "            dataset_merge = dataset_close_vol\n",
    "        else:\n",
    "            dataset_merge = dataset_merge.join(dataset_close_vol)\n",
    "\n",
    "    dataset_merge.fillna(method=\"ffill\", inplace=True) #fill gaps with the previous know value\n",
    "    dataset_merge.dropna(inplace=True)\n",
    "    return dataset_merge\n",
    "    \n",
    "        "
   ]
  },
  {
   "cell_type": "code",
   "execution_count": 19,
   "metadata": {},
   "outputs": [
    {
     "name": "stdout",
     "output_type": "stream",
     "text": [
      "            BTC-USD_close  BTC-USD_volume  LTC-USD_close  LTC-USD_volume  \\\n",
      "time                                                                       \n",
      "1528968720    6487.379883        7.706374      96.660004      314.387024   \n",
      "1528968780    6479.410156        3.088252      96.570000       77.129799   \n",
      "1528968840    6479.410156        1.404100      96.500000        7.216067   \n",
      "1528968900    6479.979980        0.753000      96.389999      524.539978   \n",
      "1528968960    6480.000000        1.490900      96.519997       16.991997   \n",
      "\n",
      "            BCH-USD_close  BCH-USD_volume  ETH-USD_close  ETH-USD_volume  \n",
      "time                                                                      \n",
      "1528968720     870.859985       26.856577      486.01001       26.019083  \n",
      "1528968780     870.099976        1.124300      486.00000        8.449400  \n",
      "1528968840     870.789978        1.749862      485.75000       26.994646  \n",
      "1528968900     870.000000        1.680500      486.00000       77.355759  \n",
      "1528968960     869.989990        1.669014      486.00000        7.503300  \n"
     ]
    }
   ],
   "source": [
    "# Verify if the function works as expected:\n",
    "main_dataset = merge_datasets(ratios,path,dataset)\n",
    "print(main_dataset.head())\n"
   ]
  },
  {
   "cell_type": "markdown",
   "metadata": {},
   "source": [
    "as we can see, we already sucessfully merge the data from the different crypocurrencies datasets, know we need to perform \n",
    "define our inputs and targets, and then apply some normalization to the input data"
   ]
  },
  {
   "cell_type": "markdown",
   "metadata": {},
   "source": [
    "## Target Definition\n",
    "\n",
    "Since RNN uses sequential data, we need to prepare our target vector considering the length of the sequence that we will use \n",
    "as input, the cryptocurrency that we want to predict and finally the temporary window behaviour (up/down) that we want to predict"
   ]
  },
  {
   "cell_type": "code",
   "execution_count": 20,
   "metadata": {},
   "outputs": [],
   "source": [
    "# Variables used to create a target vector\n",
    "SEQUENCE_LENGTH = 60 # Take the previous 60 instances to make predictions\n",
    "FUTURE_PERIOD_PREDICTION = 3 # we want to predict the cryptocurrency behaviour in a period of 3 min\n",
    "RATIO_TO_PREDICT = \"LTC-USD\""
   ]
  },
  {
   "cell_type": "markdown",
   "metadata": {},
   "source": [
    "now, it is necessary to define a function that take the current value and the future value of the crypto and then\n",
    "set a binary value of 1 when we should buy and 0 when we have to sell our asset"
   ]
  },
  {
   "cell_type": "code",
   "execution_count": 21,
   "metadata": {},
   "outputs": [],
   "source": [
    "def buy_sell_classification(current_value, future_value):\n",
    "    if float(future_value) > float(current_value):\n",
    "        return 1\n",
    "    else:\n",
    "        return 0"
   ]
  },
  {
   "cell_type": "code",
   "execution_count": 22,
   "metadata": {},
   "outputs": [],
   "source": [
    "def build_target_vector(dataset, ratio_to_predict, future_period_prediction):\n",
    "    # create a new column with future values:\n",
    "    dataset[f'future_{ratio_to_predict}'] = dataset[f'{ratio_to_predict}_close'].shift(-future_period_prediction)\n",
    "    \n",
    "    # create a target column\n",
    "    dataset[f'target_{ratio_to_predict}'] = list(map(buy_sell_classification, dataset[f'{ratio_to_predict}_close'], dataset[f'future_{ratio_to_predict}']))\n",
    "    \n",
    "    return dataset"
   ]
  },
  {
   "cell_type": "code",
   "execution_count": 23,
   "metadata": {},
   "outputs": [
    {
     "name": "stdout",
     "output_type": "stream",
     "text": [
      "(97723, 10)\n",
      "            LTC-USD_close  future_LTC-USD  target_LTC-USD\n",
      "time                                                     \n",
      "1528968720      96.660004       96.389999               0\n",
      "1528968780      96.570000       96.519997               0\n",
      "1528968840      96.500000       96.440002               0\n",
      "1528968900      96.389999       96.470001               1\n",
      "1528968960      96.519997       96.400002               0\n",
      "1528969020      96.440002       96.400002               0\n",
      "1528969080      96.470001       96.400002               0\n",
      "1528969140      96.400002       96.400002               0\n",
      "1528969200      96.400002       96.400002               0\n",
      "1528969260      96.400002       96.449997               1\n",
      "            BTC-USD_close  BTC-USD_volume  LTC-USD_close  LTC-USD_volume  \\\n",
      "time                                                                       \n",
      "1528968720    6487.379883        7.706374      96.660004      314.387024   \n",
      "1528968780    6479.410156        3.088252      96.570000       77.129799   \n",
      "1528968840    6479.410156        1.404100      96.500000        7.216067   \n",
      "1528968900    6479.979980        0.753000      96.389999      524.539978   \n",
      "1528968960    6480.000000        1.490900      96.519997       16.991997   \n",
      "\n",
      "            BCH-USD_close  BCH-USD_volume  ETH-USD_close  ETH-USD_volume  \\\n",
      "time                                                                       \n",
      "1528968720     870.859985       26.856577      486.01001       26.019083   \n",
      "1528968780     870.099976        1.124300      486.00000        8.449400   \n",
      "1528968840     870.789978        1.749862      485.75000       26.994646   \n",
      "1528968900     870.000000        1.680500      486.00000       77.355759   \n",
      "1528968960     869.989990        1.669014      486.00000        7.503300   \n",
      "\n",
      "            future_LTC-USD  target_LTC-USD  \n",
      "time                                        \n",
      "1528968720       96.389999               0  \n",
      "1528968780       96.519997               0  \n",
      "1528968840       96.440002               0  \n",
      "1528968900       96.470001               1  \n",
      "1528968960       96.400002               0  \n"
     ]
    }
   ],
   "source": [
    "main_dataset_with_target = build_target_vector(main_dataset, RATIO_TO_PREDICT, FUTURE_PERIOD_PREDICTION)\n",
    "\n",
    "# Verify values:\n",
    "print(main_dataset_with_target.shape)\n",
    "print(main_dataset_with_target[[f'{RATIO_TO_PREDICT}_close', f'future_{RATIO_TO_PREDICT}', f'target_{RATIO_TO_PREDICT}']].head(10))\n",
    "print(main_dataset_with_target.head())"
   ]
  },
  {
   "cell_type": "markdown",
   "metadata": {},
   "source": [
    "## Training Data, Test Data and Normalization\n",
    "\n",
    "Since we are trying to make predictions based on temporal data, it is necessary to split and sort our dataset into little sequential chuncks of data and apply some normalization (because the range value of all the different assets is way too different between cryptocurrencies)"
   ]
  },
  {
   "cell_type": "code",
   "execution_count": 24,
   "metadata": {},
   "outputs": [],
   "source": [
    "# Split our dataset into training and validation sets\n",
    "def split_dataset(dataset):\n",
    "    # take time as index and sort it\n",
    "    times = sorted(dataset.index.values)\n",
    "    last_percentage = sorted(dataset.index.values)[-int(0.25*len(times))]\n",
    "    # use index to take our validation and training data\n",
    "    validation_dataset = dataset[(dataset.index >= last_percentage)]\n",
    "    training_dataset = dataset[(dataset.index < last_percentage)]\n",
    "    \n",
    "    return training_dataset, validation_dataset"
   ]
  },
  {
   "cell_type": "code",
   "execution_count": 25,
   "metadata": {},
   "outputs": [
    {
     "name": "stdout",
     "output_type": "stream",
     "text": [
      "(97723, 10)\n",
      "(73293, 10)\n",
      "(24430, 10)\n"
     ]
    }
   ],
   "source": [
    "#verify function:\n",
    "train_dataset, validation_dataset = split_dataset(main_dataset_with_target)\n",
    "print(main_dataset_with_target.shape)\n",
    "print(train_dataset.shape)\n",
    "print(validation_dataset.shape)"
   ]
  },
  {
   "cell_type": "code",
   "execution_count": 26,
   "metadata": {},
   "outputs": [],
   "source": [
    "# Lets preprocess the data:\n",
    "from sklearn import preprocessing\n",
    "from collections import deque\n",
    "import numpy as np\n",
    "import random\n",
    "\n",
    "def preprocess_dataset(df):\n",
    "    df = df.drop(f'future_{RATIO_TO_PREDICT}', 1)  # don't need this anymore.\n",
    "\n",
    "    for col in df.columns:  # go through all of the columns\n",
    "        if col != f'target_{RATIO_TO_PREDICT}':  # normalize all ... except for the target itself!\n",
    "            df[col] = df[col].pct_change()  # pct change \"normalizes\" the different currencies (each crypto coin has vastly diff values, we're really more interested in the other coin's movements)\n",
    "            df.dropna(inplace=True)  # remove the nas created by pct_change\n",
    "            df[col] = preprocessing.scale(df[col].values)  # scale between 0 and 1.\n",
    "\n",
    "    df.dropna(inplace=True)  # cleanup again... jic.\n",
    "\n",
    "\n",
    "    sequential_data = []  # this is a list that will CONTAIN the sequences\n",
    "    prev_days = deque(maxlen=SEQUENCE_LENGTH)  # These will be our actual sequences. They are made with deque, which keeps the maximum length by popping out older values as new ones come in\n",
    "\n",
    "    for i in df.values:  # iterate over the values\n",
    "        prev_days.append([n for n in i[:-1]])  # store all but the target\n",
    "        if len(prev_days) == SEQUENCE_LENGTH:  # make sure we have 60 sequences!\n",
    "            sequential_data.append([np.array(prev_days), i[-1]])  # append those bad boys!\n",
    "\n",
    "    random.shuffle(sequential_data)  # shuffle for good measure.\n",
    "\n",
    "    buys = []  # list that will store our buy sequences and targets\n",
    "    sells = []  # list that will store our sell sequences and targets\n",
    "\n",
    "    for seq, target in sequential_data:  # iterate over the sequential data\n",
    "        if target == 0:  # if it's a \"not buy\"\n",
    "            sells.append([seq, target])  # append to sells list\n",
    "        elif target == 1:  # otherwise if the target is a 1...\n",
    "            buys.append([seq, target])  # it's a buy!\n",
    "\n",
    "    random.shuffle(buys)  # shuffle the buys\n",
    "    random.shuffle(sells)  # shuffle the sells!\n",
    "\n",
    "    lower = min(len(buys), len(sells))  # what's the shorter length?\n",
    "\n",
    "    buys = buys[:lower]  # make sure both lists are only up to the shortest length.\n",
    "    sells = sells[:lower]  # make sure both lists are only up to the shortest length.\n",
    "\n",
    "    sequential_data = buys+sells  # add them together\n",
    "    random.shuffle(sequential_data)  # another shuffle, so the model doesn't get confused with all 1 class then the other.\n",
    "\n",
    "    X = []\n",
    "    y = []\n",
    "\n",
    "    for seq, target in sequential_data:  # going over our new sequential data\n",
    "        X.append(seq)  # X is the sequences\n",
    "        y.append(target)  # y is the targets/labels (buys vs sell/notbuy)\n",
    "\n",
    "    return np.array(X), y  # return X and y...and make X a numpy array!\n"
   ]
  },
  {
   "cell_type": "code",
   "execution_count": 27,
   "metadata": {},
   "outputs": [
    {
     "name": "stdout",
     "output_type": "stream",
     "text": [
      "train data: 60656 validation: 21110\n",
      "Dont buys: 30328, buys: 30328\n",
      "VALIDATION Dont buys: 10555, buys: 10555\n"
     ]
    }
   ],
   "source": [
    "X_train, y_train = preprocess_dataset(train_dataset)\n",
    "\n",
    "X_validation, y_validation = preprocess_dataset(validation_dataset)\n",
    "\n",
    "print(f\"train data: {len(X_train)} validation: {len(X_validation)}\")\n",
    "print(f\"Dont buys: {y_train.count(0)}, buys: {y_train.count(1)}\")\n",
    "print(f\"VALIDATION Dont buys: {y_validation.count(0)}, buys: {y_validation.count(1)}\")"
   ]
  },
  {
   "cell_type": "markdown",
   "metadata": {},
   "source": [
    "## MODEL DEFINITION, TRAINING AND VALIDATION\n",
    "we already have a normalized and balanced dataset to be used to train our model, in the following steps we will create a model, we will train it and validate their performance"
   ]
  },
  {
   "cell_type": "code",
   "execution_count": 28,
   "metadata": {},
   "outputs": [],
   "source": [
    "import time\n",
    "\n",
    "# SET OF VARIABLES USED TO TRAIN AND SAVE OUR MODEL:\n",
    "EPOCHS = 10\n",
    "BATCH_SIZE = 64\n",
    "NAME = f'{RATIO_TO_PREDICT}-SEQ-{FUTURE_PERIOD_PREDICTION}-PRED-{int(time.time())}'\n",
    "\n",
    "import tensorflow as tf\n",
    "from tensorflow.keras.models import Sequential\n",
    "from tensorflow.keras.layers import Dense, Dropout, CuDNNLSTM, BatchNormalization\n",
    "from tensorflow.keras.callbacks import TensorBoard, ModelCheckpoint"
   ]
  },
  {
   "cell_type": "markdown",
   "metadata": {},
   "source": [
    "lets create the RNN LSTM Model"
   ]
  },
  {
   "cell_type": "code",
   "execution_count": 33,
   "metadata": {},
   "outputs": [],
   "source": [
    "model = Sequential()\n",
    "model.add(CuDNNLSTM(128, input_shape=(X_train.shape[1:]), return_sequences=True))\n",
    "model.add(Dropout(0.2))\n",
    "model.add(BatchNormalization())\n",
    "\n",
    "model.add(CuDNNLSTM(128, return_sequences=True))\n",
    "model.add(Dropout(0.1))\n",
    "model.add(BatchNormalization())\n",
    "\n",
    "model.add(CuDNNLSTM(128))\n",
    "model.add(Dropout(0.2))\n",
    "model.add(BatchNormalization())\n",
    "\n",
    "model.add(Dense(32, activation='relu'))\n",
    "model.add(Dropout(0.2))\n",
    "\n",
    "model.add(Dense(2, activation='softmax'))"
   ]
  },
  {
   "cell_type": "code",
   "execution_count": 34,
   "metadata": {},
   "outputs": [],
   "source": [
    "# Compile the model:\n",
    "opt = tf.keras.optimizers.Adam(lr=0.001, decay=1e-6)\n",
    "\n",
    "model.compile(\n",
    "    loss= 'sparse_categorical_crossentropy',\n",
    "    optimizer= opt,\n",
    "    metrics= ['accuracy']\n",
    ")"
   ]
  },
  {
   "cell_type": "code",
   "execution_count": 35,
   "metadata": {},
   "outputs": [],
   "source": [
    "# Tensorboard callback\n",
    "tensorboard = TensorBoard(log_dir=\"logs/{}\".format(NAME))\n",
    "\n",
    "# Checkpoint\n",
    "filepath = \"RNN_Final-{epoch:02d}-{val_acc:.3f}.hdf5\"\n",
    "checkpoint = ModelCheckpoint(\"models/{}.model\".format(filepath, monitor='val_acc', verbose=1, save_best_only=True, mode='max'))"
   ]
  },
  {
   "cell_type": "code",
   "execution_count": 36,
   "metadata": {},
   "outputs": [
    {
     "name": "stdout",
     "output_type": "stream",
     "text": [
      "Train on 60656 samples, validate on 21110 samples\n",
      "Epoch 1/10\n",
      "60656/60656 [==============================] - 108s 2ms/step - loss: 0.7239 - acc: 0.5061 - val_loss: 0.6937 - val_acc: 0.5019\n",
      "Epoch 2/10\n",
      "60656/60656 [==============================] - 106s 2ms/step - loss: 0.6926 - acc: 0.5227 - val_loss: 0.6846 - val_acc: 0.5528\n",
      "Epoch 3/10\n",
      "60656/60656 [==============================] - 107s 2ms/step - loss: 0.6858 - acc: 0.5503 - val_loss: 0.6860 - val_acc: 0.5487\n",
      "Epoch 4/10\n",
      "60656/60656 [==============================] - 107s 2ms/step - loss: 0.6833 - acc: 0.5634 - val_loss: 0.6869 - val_acc: 0.5383\n",
      "Epoch 5/10\n",
      "60656/60656 [==============================] - 104s 2ms/step - loss: 0.6811 - acc: 0.5645 - val_loss: 0.6801 - val_acc: 0.5596\n",
      "Epoch 6/10\n",
      "60656/60656 [==============================] - 104s 2ms/step - loss: 0.6802 - acc: 0.5679 - val_loss: 0.6819 - val_acc: 0.5581\n",
      "Epoch 7/10\n",
      "60656/60656 [==============================] - 104s 2ms/step - loss: 0.6789 - acc: 0.5702 - val_loss: 0.6808 - val_acc: 0.5620\n",
      "Epoch 8/10\n",
      "60656/60656 [==============================] - 104s 2ms/step - loss: 0.6776 - acc: 0.5707 - val_loss: 0.6837 - val_acc: 0.5497\n",
      "Epoch 9/10\n",
      "60656/60656 [==============================] - 107s 2ms/step - loss: 0.6759 - acc: 0.5775 - val_loss: 0.6798 - val_acc: 0.5685\n",
      "Epoch 10/10\n",
      "60656/60656 [==============================] - 109s 2ms/step - loss: 0.6726 - acc: 0.5851 - val_loss: 0.6802 - val_acc: 0.5665\n",
      "Test loss: 0.6801659889776861\n",
      "Test accuracy: 0.566508763636079\n"
     ]
    }
   ],
   "source": [
    "# Train the model:\n",
    "\n",
    "history = model.fit(\n",
    "    X_train, y_train,\n",
    "    batch_size= BATCH_SIZE,\n",
    "    epochs= EPOCHS,\n",
    "    validation_data= (X_validation, y_validation), \n",
    "    callbacks= [tensorboard, checkpoint] \n",
    ")\n",
    "\n",
    "# Score model\n",
    "score = model.evaluate(X_validation, y_validation, verbose=0)\n",
    "print('Test loss:', score[0])\n",
    "print('Test accuracy:', score[1])\n",
    "# Save model\n",
    "model.save(\"models/{}\".format(NAME))"
   ]
  },
  {
   "cell_type": "code",
   "execution_count": null,
   "metadata": {},
   "outputs": [],
   "source": []
  }
 ],
 "metadata": {
  "kernelspec": {
   "display_name": "Python 3",
   "language": "python",
   "name": "python3"
  },
  "language_info": {
   "codemirror_mode": {
    "name": "ipython",
    "version": 3
   },
   "file_extension": ".py",
   "mimetype": "text/x-python",
   "name": "python",
   "nbconvert_exporter": "python",
   "pygments_lexer": "ipython3",
   "version": "3.6.6"
  }
 },
 "nbformat": 4,
 "nbformat_minor": 2
}
