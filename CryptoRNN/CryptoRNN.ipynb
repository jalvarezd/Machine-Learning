{
 "cells": [
  {
   "cell_type": "markdown",
   "metadata": {},
   "source": [
    "## Dataset Preprocessing"
   ]
  },
  {
   "cell_type": "markdown",
   "metadata": {},
   "source": [
    "we will use the BTC-USD, LTC-USD, ETH-USD and BCH-USD datasets to train our model, however it is necessary to perform\n",
    "data preprocessing before actually feed our model "
   ]
  },
  {
   "cell_type": "code",
   "execution_count": 1,
   "metadata": {},
   "outputs": [
    {
     "name": "stdout",
     "output_type": "stream",
     "text": [
      "         time          low         high         open        close    volume\n",
      "0  1528968660  6489.549805  6489.560059  6489.560059  6489.549805  0.587100\n",
      "1  1528968720  6487.370117  6489.560059  6489.549805  6487.379883  7.706374\n",
      "2  1528968780  6479.410156  6487.370117  6487.370117  6479.410156  3.088252\n",
      "3  1528968840  6479.410156  6479.419922  6479.419922  6479.410156  1.404100\n",
      "4  1528968900  6475.930176  6479.979980  6479.410156  6479.979980  0.753000\n"
     ]
    }
   ],
   "source": [
    "import pandas as pd\n",
    "\n",
    "# Test if we can actually read the data from the dataset folder:\n",
    "\n",
    "dataset = pd.read_csv(\"Datasets/BTC-USD.csv\", names=['time', 'low', 'high', 'open', 'close', 'volume'])\n",
    "print(dataset.head())"
   ]
  },
  {
   "cell_type": "code",
   "execution_count": 2,
   "metadata": {},
   "outputs": [],
   "source": [
    "# Define a Function to select only \"close\" and \"volume\" columns\n",
    "# then merge in a unique dataframe\n",
    "ratios = [\"BTC-USD\", \"BCH-USD\", \"ETH-USD\", \"LTC-USD\"]\n",
    "path = \"Datasets/\"\n",
    "\n",
    "\n",
    "def merge_datasets(ratios, path):\n",
    "    dataset_merge = pd.DataFrame()\n",
    "    # Read datasets from the path\n",
    "    for ratio in ratios:\n",
    "        #Set the path to each cryptocurency dataset and read them:\n",
    "        dataset_path = path+f'{ratio}.csv'\n",
    "        dataset = pd.read_csv(dataset_path, names=['time', f'{ratio}_low', f'{ratio}_high', f'{ratio}_open', f'{ratio}_close', f'{ratio}_volume'])\n",
    "        \n",
    "        # take only \"close\" and \"volume\" columns from each crypto dataset:\n",
    "        dataset.set_index(\"time\", inplace=True) #since time is a common value for each dataset, we define it as the index \n",
    "        dataset_close_vol = dataset[[f'{ratio}_close', f'{ratio}_volume']] # take close and volume\n",
    "        \n",
    "        # merge values:\n",
    "        if len(dataset_merge)==0:\n",
    "            dataset_merge = dataset_close_vol\n",
    "        else:\n",
    "            dataset_merge = dataset_merge.join(dataset_close_vol)\n",
    "\n",
    "    dataset_merge.fillna(method=\"ffill\", inplace=True) #fill gaps with the previous know value\n",
    "    dataset_merge.dropna(inplace=True)\n",
    "    return dataset_merge\n",
    "    \n",
    "        "
   ]
  },
  {
   "cell_type": "code",
   "execution_count": 3,
   "metadata": {},
   "outputs": [
    {
     "name": "stdout",
     "output_type": "stream",
     "text": [
      "            BTC-USD_close  BTC-USD_volume  BCH-USD_close  BCH-USD_volume  \\\n",
      "time                                                                       \n",
      "1528968720    6487.379883        7.706374     870.859985       26.856577   \n",
      "1528968780    6479.410156        3.088252     870.099976        1.124300   \n",
      "1528968840    6479.410156        1.404100     870.789978        1.749862   \n",
      "1528968900    6479.979980        0.753000     870.000000        1.680500   \n",
      "1528968960    6480.000000        1.490900     869.989990        1.669014   \n",
      "\n",
      "            ETH-USD_close  ETH-USD_volume  LTC-USD_close  LTC-USD_volume  \n",
      "time                                                                      \n",
      "1528968720      486.01001       26.019083      96.660004      314.387024  \n",
      "1528968780      486.00000        8.449400      96.570000       77.129799  \n",
      "1528968840      485.75000       26.994646      96.500000        7.216067  \n",
      "1528968900      486.00000       77.355759      96.389999      524.539978  \n",
      "1528968960      486.00000        7.503300      96.519997       16.991997  \n"
     ]
    }
   ],
   "source": [
    "# Verify if the function works as expected:\n",
    "main_dataset = merge_datasets(ratios,path)\n",
    "print(main_dataset.head())\n"
   ]
  },
  {
   "cell_type": "markdown",
   "metadata": {},
   "source": [
    "as we can see, we already sucessfully merge the data from the different crypocurrencies datasets, know we need to perform \n",
    "define our inputs and targets, and then apply some normalization to the input data"
   ]
  },
  {
   "cell_type": "markdown",
   "metadata": {},
   "source": [
    "## Target Definition\n",
    "\n",
    "Since RNN uses sequential data, we need to prepare our target vector considering the length of the sequence that we will use \n",
    "as input, the cryptocurrency that we want to predict and finally the temporary window behaviour (up/down) that we want to predict"
   ]
  },
  {
   "cell_type": "code",
   "execution_count": 4,
   "metadata": {},
   "outputs": [],
   "source": [
    "# Variables used to create a target vector\n",
    "SEQUENCE_LENGTH = 60 # Take the previous 60 instances to make predictions\n",
    "FUTURE_PERIOD_PREDICTION = 3 # we want to predict the cryptocurrency behaviour in a period of 3 min\n",
    "RATIO_TO_PREDICT = \"LTC-USD\""
   ]
  },
  {
   "cell_type": "markdown",
   "metadata": {},
   "source": [
    "now, it is necessary to define a function that take the current value and the future value of the crypto and then\n",
    "set a binary value of 1 when we should buy and 0 when we have to sell our asset"
   ]
  },
  {
   "cell_type": "code",
   "execution_count": 5,
   "metadata": {},
   "outputs": [],
   "source": [
    "def buy_sell_classification(current_value, future_value):\n",
    "    if float(future_value) > float(current_value):\n",
    "        return 1\n",
    "    else:\n",
    "        return 0"
   ]
  },
  {
   "cell_type": "code",
   "execution_count": 6,
   "metadata": {},
   "outputs": [],
   "source": [
    "def build_target_vector(dataset, ratio_to_predict, future_period_prediction):\n",
    "    # create a new column with future values:\n",
    "    dataset[f'future_{ratio_to_predict}'] = dataset[f'{ratio_to_predict}_close'].shift(-future_period_prediction)\n",
    "    \n",
    "    # create a target column\n",
    "    dataset[f'target_{ratio_to_predict}'] = list(map(buy_sell_classification, dataset[f'{ratio_to_predict}_close'], dataset[f'future_{ratio_to_predict}']))\n",
    "    \n",
    "    return dataset"
   ]
  },
  {
   "cell_type": "code",
   "execution_count": 7,
   "metadata": {},
   "outputs": [
    {
     "name": "stdout",
     "output_type": "stream",
     "text": [
      "            LTC-USD_close  future_LTC-USD  target_LTC-USD\n",
      "time                                                     \n",
      "1528968720      96.660004       96.389999               0\n",
      "1528968780      96.570000       96.519997               0\n",
      "1528968840      96.500000       96.440002               0\n",
      "1528968900      96.389999       96.470001               1\n",
      "1528968960      96.519997       96.400002               0\n",
      "1528969020      96.440002       96.400002               0\n",
      "1528969080      96.470001       96.400002               0\n",
      "1528969140      96.400002       96.400002               0\n",
      "1528969200      96.400002       96.400002               0\n",
      "1528969260      96.400002       96.449997               1\n"
     ]
    }
   ],
   "source": [
    "main_dataset_with_target = build_target_vector(main_dataset, RATIO_TO_PREDICT, FUTURE_PERIOD_PREDICTION)\n",
    "\n",
    "# Verify values:\n",
    "print(main_dataset_with_target[[f'{RATIO_TO_PREDICT}_close', f'future_{RATIO_TO_PREDICT}', f'target_{RATIO_TO_PREDICT}']].head(10))"
   ]
  },
  {
   "cell_type": "markdown",
   "metadata": {},
   "source": [
    "## Training Data, Test Data and Normalization\n",
    "\n",
    "Since we are trying to make predictions based on temporal data, it is necessary to split and sort our dataset into little sequential chuncks of data and apply some normalization (because the range value of all the different assets is way too different between cryptocurrencies)"
   ]
  },
  {
   "cell_type": "code",
   "execution_count": 8,
   "metadata": {},
   "outputs": [],
   "source": [
    "# Split our dataset into training and validation sets\n",
    "def split_dataset(dataset):\n",
    "    # take time as index and sort it\n",
    "    times = sorted(dataset.index.values)\n",
    "    last_percentage = sorted(dataset.index.values)[-int(0.05*len(times))]\n",
    "    # use index to take our validation and training data\n",
    "    validation_dataset = dataset[(dataset.index >= last_percentage)]\n",
    "    training_dataset = dataset[(dataset.index < last_percentage)]\n",
    "    \n",
    "    return training_dataset, validation_dataset"
   ]
  },
  {
   "cell_type": "code",
   "execution_count": 9,
   "metadata": {},
   "outputs": [
    {
     "name": "stdout",
     "output_type": "stream",
     "text": [
      "(97723, 10)\n",
      "(92837, 10)\n",
      "(4886, 10)\n"
     ]
    }
   ],
   "source": [
    "#verify function:\n",
    "train_dataset, validation_dataset = split_dataset(main_dataset_with_target)\n",
    "print(main_dataset_with_target.shape)\n",
    "print(train_dataset.shape)\n",
    "print(validation_dataset.shape)"
   ]
  },
  {
   "cell_type": "code",
   "execution_count": 10,
   "metadata": {},
   "outputs": [],
   "source": [
    "# Lets preprocess the data:\n",
    "from sklearn import preprocessing\n",
    "from collections import deque\n",
    "import numpy as np\n",
    "import random\n",
    "\n",
    "def preprocess_dataset(dataset):\n",
    "    dataset = dataset.drop(f'future_{RATIO_TO_PREDICT}',1) # Remove future column\n",
    "    \n",
    "    for col in dataset.columns:\n",
    "        if col != f'target_{RATIO_TO_PREDICT}':\n",
    "            dataset[col] = dataset[col].pct_change()\n",
    "            dataset.dropna(inplace=True)\n",
    "            dataset[col] = preprocessing.scale(dataset[col].values)\n",
    "        \n",
    "        dataset.dropna(inplace=True)\n",
    "        \n",
    "        # create sequential data\n",
    "        sequential_data = []\n",
    "        previous_days = deque(maxlen=SEQUENCE_LENGTH) # These will be our actual sequences. They are made with deque, which keeps the maximum length by popping out older values as new ones come in\n",
    "\n",
    "        for i in dataset.values:\n",
    "            previous_days.append([n for n in i[:-1]]) # Store all exept target \n",
    "            \n",
    "            if len(previous_days) == SEQUENCE_LENGTH:\n",
    "                sequential_data.append([np.array(previous_days), i[-1]])\n",
    "        \n",
    "        random.shuffle(sequential_data)\n",
    "    \n",
    "        buys = []\n",
    "        sells = []\n",
    "        \n",
    "        for seq, target in sequential_data:\n",
    "            if target == 0:\n",
    "                sells.append([seq, target])\n",
    "            elif target == 1:\n",
    "                buys.append([seq, target]) \n",
    "        \n",
    "        random.shuffle(buys)\n",
    "        random.shuffle(sells)\n",
    "        \n",
    "        lower = min(len(buys), len(sells))\n",
    "        \n",
    "        buys = buys[:lower]\n",
    "        sells = sells[:lower]\n",
    "        \n",
    "        sequential_data = buys+sells\n",
    "        random.shuffle(sequential_data)\n",
    "        \n",
    "        X = []\n",
    "        y = []\n",
    "        \n",
    "        for seq, target in sequential_data:\n",
    "            X.append(seq)\n",
    "            y.append(target)\n",
    "        \n",
    "        return np.array(X), y"
   ]
  },
  {
   "cell_type": "code",
   "execution_count": 11,
   "metadata": {},
   "outputs": [
    {
     "name": "stdout",
     "output_type": "stream",
     "text": [
      "train data: 77926 validation: 3868\n",
      "Dont buys: 38963, buys: 38963\n",
      "VALIDATION Dont buys: 1934, buys: 1934\n"
     ]
    }
   ],
   "source": [
    "X_train, y_train = preprocess_dataset(train_dataset)\n",
    "\n",
    "X_validation, y_validation = preprocess_dataset(validation_dataset)\n",
    "\n",
    "print(f\"train data: {len(X_train)} validation: {len(X_validation)}\")\n",
    "print(f\"Dont buys: {y_train.count(0)}, buys: {y_train.count(1)}\")\n",
    "print(f\"VALIDATION Dont buys: {y_validation.count(0)}, buys: {y_validation.count(1)}\")"
   ]
  },
  {
   "cell_type": "markdown",
   "metadata": {},
   "source": [
    "## MODEL DEFINITION, TRAINING AND VALIDATION\n",
    "we already have a normalized and balanced dataset to be used to train our model, in the following steps we will create a model, we will train it and validate their performance"
   ]
  },
  {
   "cell_type": "code",
   "execution_count": 12,
   "metadata": {},
   "outputs": [],
   "source": [
    "import time\n",
    "\n",
    "# SET OF VARIABLES USED TO TRAIN AND SAVE OUR MODEL:\n",
    "EPOCHS = 10\n",
    "BATCH_SIZE = 64\n",
    "NAME = f'{RATIO_TO_PREDICT}-SEQ-{FUTURE_PERIOD_PREDICTION}-PRED-{int(time.time())}'\n",
    "\n",
    "import tensorflow as tf\n",
    "from tensorflow.keras.models import Sequential\n",
    "from tensorflow.keras.layers import Dense, Dropout, CuDNNLSTM, BatchNormalization\n",
    "from tensorflow.keras.callbacks import TensorBoard, ModelCheckpoint"
   ]
  },
  {
   "cell_type": "markdown",
   "metadata": {},
   "source": [
    "lets create the RNN LSTM Model"
   ]
  },
  {
   "cell_type": "code",
   "execution_count": 13,
   "metadata": {},
   "outputs": [],
   "source": [
    "model = Sequential()\n",
    "model.add(CuDNNLSTM(128, input_shape=(X_train.shape[1:]), return_sequences=True))\n",
    "model.add(Dropout(0.2))\n",
    "model.add(BatchNormalization())\n",
    "\n",
    "model.add(CuDNNLSTM(128, input_shape=(X_train.shape[1:]), return_sequences=True))\n",
    "model.add(Dropout(0.1))\n",
    "model.add(BatchNormalization())\n",
    "\n",
    "model.add(CuDNNLSTM(128, input_shape=(X_train.shape[1:])))\n",
    "model.add(Dropout(0.2))\n",
    "model.add(BatchNormalization())\n",
    "\n",
    "model.add(Dense(32, activation='relu'))\n",
    "model.add(Dropout(0.2))\n",
    "\n",
    "model.add(Dense(2, activation='softmax'))"
   ]
  },
  {
   "cell_type": "code",
   "execution_count": 14,
   "metadata": {},
   "outputs": [],
   "source": [
    "# Compile the model:\n",
    "opt = tf.keras.optimizers.Adam(lr=0.001, decay=1e-6)\n",
    "\n",
    "model.compile(\n",
    "    loss= 'sparse_categorical_crossentropy',\n",
    "    optimizer= opt,\n",
    "    metrics= ['accuracy']\n",
    ")"
   ]
  },
  {
   "cell_type": "code",
   "execution_count": 15,
   "metadata": {},
   "outputs": [],
   "source": [
    "# Tensorboard callback\n",
    "tensorboard = TensorBoard(log_dir=\"logs/{}\".format(NAME))\n",
    "\n",
    "# Checkpoint\n",
    "filepath = \"RNN_Final-{epoch:02d}-{val_acc:.3f}.hdf5\"\n",
    "checkpoint = ModelCheckpoint(\"models/{}.model\".format(filepath, monitor='val_acc', verbose=1, save_best_only=True, mode='max'))"
   ]
  },
  {
   "cell_type": "code",
   "execution_count": 16,
   "metadata": {},
   "outputs": [
    {
     "name": "stdout",
     "output_type": "stream",
     "text": [
      "Train on 77926 samples, validate on 3868 samples\n",
      "Epoch 1/10\n",
      "77926/77926 [==============================] - 135s 2ms/step - loss: 0.7178 - acc: 0.5081 - val_loss: 0.6920 - val_acc: 0.5259\n",
      "Epoch 2/10\n",
      "77926/77926 [==============================] - 127s 2ms/step - loss: 0.6931 - acc: 0.5156 - val_loss: 0.6941 - val_acc: 0.5080\n",
      "Epoch 3/10\n",
      "77926/77926 [==============================] - 135s 2ms/step - loss: 0.6926 - acc: 0.5176 - val_loss: 0.6929 - val_acc: 0.5078\n",
      "Epoch 4/10\n",
      "77926/77926 [==============================] - 133s 2ms/step - loss: 0.6925 - acc: 0.5169 - val_loss: 0.6931 - val_acc: 0.5039\n",
      "Epoch 5/10\n",
      "77926/77926 [==============================] - 130s 2ms/step - loss: 0.6921 - acc: 0.5197 - val_loss: 0.6934 - val_acc: 0.5026\n",
      "Epoch 6/10\n",
      "77926/77926 [==============================] - 135s 2ms/step - loss: 0.6924 - acc: 0.5185 - val_loss: 0.6992 - val_acc: 0.5109\n",
      "Epoch 7/10\n",
      "77926/77926 [==============================] - 127s 2ms/step - loss: 0.6925 - acc: 0.5155 - val_loss: 0.6924 - val_acc: 0.5212\n",
      "Epoch 8/10\n",
      "77926/77926 [==============================] - 130s 2ms/step - loss: 0.6926 - acc: 0.5161 - val_loss: 0.6936 - val_acc: 0.4997\n",
      "Epoch 9/10\n",
      "77926/77926 [==============================] - 128s 2ms/step - loss: 0.6923 - acc: 0.5192 - val_loss: 0.6931 - val_acc: 0.5137\n",
      "Epoch 10/10\n",
      "77926/77926 [==============================] - 126s 2ms/step - loss: 0.6926 - acc: 0.5168 - val_loss: 0.6931 - val_acc: 0.5036\n",
      "Test loss: 0.6931380152455776\n",
      "Test accuracy: 0.5036194416026911\n"
     ]
    }
   ],
   "source": [
    "# Train the model:\n",
    "\n",
    "history = model.fit(\n",
    "    X_train, y_train,\n",
    "    batch_size= BATCH_SIZE,\n",
    "    epochs= EPOCHS,\n",
    "    validation_data= (X_validation, y_validation), \n",
    "    callbacks= [tensorboard, checkpoint] \n",
    ")\n",
    "\n",
    "# Score model\n",
    "score = model.evaluate(X_validation, y_validation, verbose=0)\n",
    "print('Test loss:', score[0])\n",
    "print('Test accuracy:', score[1])\n",
    "# Save model\n",
    "model.save(\"models/{}\".format(NAME))"
   ]
  },
  {
   "cell_type": "code",
   "execution_count": null,
   "metadata": {},
   "outputs": [],
   "source": []
  },
  {
   "cell_type": "code",
   "execution_count": null,
   "metadata": {},
   "outputs": [],
   "source": []
  }
 ],
 "metadata": {
  "kernelspec": {
   "display_name": "Python 3",
   "language": "python",
   "name": "python3"
  },
  "language_info": {
   "codemirror_mode": {
    "name": "ipython",
    "version": 3
   },
   "file_extension": ".py",
   "mimetype": "text/x-python",
   "name": "python",
   "nbconvert_exporter": "python",
   "pygments_lexer": "ipython3",
   "version": "3.6.6"
  }
 },
 "nbformat": 4,
 "nbformat_minor": 2
}
