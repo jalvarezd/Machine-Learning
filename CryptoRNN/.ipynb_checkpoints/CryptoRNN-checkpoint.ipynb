{
 "cells": [
  {
   "cell_type": "markdown",
   "metadata": {},
   "source": [
    "## Dataset Preprocessing"
   ]
  },
  {
   "cell_type": "markdown",
   "metadata": {},
   "source": [
    "we will use the BTC-USD, LTC-USD, ETH-USD and BCH-USD datasets to train our model, however it is necessary to perform\n",
    "data preprocessing before actually feed our model "
   ]
  },
  {
   "cell_type": "code",
   "execution_count": 2,
   "metadata": {},
   "outputs": [
    {
     "name": "stdout",
     "output_type": "stream",
     "text": [
      "         time          low         high         open        close    volume\n",
      "0  1528968660  6489.549805  6489.560059  6489.560059  6489.549805  0.587100\n",
      "1  1528968720  6487.370117  6489.560059  6489.549805  6487.379883  7.706374\n",
      "2  1528968780  6479.410156  6487.370117  6487.370117  6479.410156  3.088252\n",
      "3  1528968840  6479.410156  6479.419922  6479.419922  6479.410156  1.404100\n",
      "4  1528968900  6475.930176  6479.979980  6479.410156  6479.979980  0.753000\n"
     ]
    }
   ],
   "source": [
    "import pandas as pd\n",
    "\n",
    "# Test if we can actually read the data from the dataset folder:\n",
    "\n",
    "dataset = pd.read_csv(\"Datasets/BTC-USD.csv\", names=['time', 'low', 'high', 'open', 'close', 'volume'])\n",
    "print(dataset.head())"
   ]
  },
  {
   "cell_type": "code",
   "execution_count": 7,
   "metadata": {},
   "outputs": [],
   "source": [
    "# Define a Function to select only \"close\" and \"volume\" columns\n",
    "# then merge in a unique dataframe\n",
    "ratios = [\"BTC-USD\", \"BCH-USD\", \"ETH-USD\", \"LTC-USD\"]\n",
    "path = \"Datasets/\"\n",
    "\n",
    "\n",
    "def merge_datasets(ratios, path):\n",
    "    dataset_merge = pd.DataFrame()\n",
    "    # Read datasets from the path\n",
    "    for ratio in ratios:\n",
    "        #Set the path to each cryptocurency dataset and read them:\n",
    "        dataset_path = path+f'{ratio}.csv'\n",
    "        dataset = pd.read_csv(dataset_path, names=['time', f'{ratio}_low', f'{ratio}_high', f'{ratio}_open', f'{ratio}_close', f'{ratio}_volume'])\n",
    "        \n",
    "        # take only \"close\" and \"volume\" columns from each crypto dataset:\n",
    "        dataset.set_index(\"time\", inplace=True) #since time is a common value for each dataset, we define it as the index \n",
    "        dataset_close_vol = dataset[[f'{ratio}_close', f'{ratio}_volume']] # take close and volume\n",
    "        \n",
    "        # merge values:\n",
    "        if len(dataset_merge)==0:\n",
    "            dataset_merge = dataset_close_vol\n",
    "        else:\n",
    "            dataset_merge = dataset_merge.join(dataset_close_vol)\n",
    "\n",
    "    dataset_merge.fillna(method=\"ffill\", inplace=True) #fill gaps with the previous know value\n",
    "    dataset_merge.dropna(inplace=True)\n",
    "    return dataset_merge\n",
    "    \n",
    "        "
   ]
  },
  {
   "cell_type": "code",
   "execution_count": 8,
   "metadata": {},
   "outputs": [
    {
     "name": "stdout",
     "output_type": "stream",
     "text": [
      "            BTC-USD_close  BTC-USD_volume  BCH-USD_close  BCH-USD_volume  \\\n",
      "time                                                                       \n",
      "1528968720    6487.379883        7.706374     870.859985       26.856577   \n",
      "1528968780    6479.410156        3.088252     870.099976        1.124300   \n",
      "1528968840    6479.410156        1.404100     870.789978        1.749862   \n",
      "1528968900    6479.979980        0.753000     870.000000        1.680500   \n",
      "1528968960    6480.000000        1.490900     869.989990        1.669014   \n",
      "\n",
      "            ETH-USD_close  ETH-USD_volume  LTC-USD_close  LTC-USD_volume  \n",
      "time                                                                      \n",
      "1528968720      486.01001       26.019083      96.660004      314.387024  \n",
      "1528968780      486.00000        8.449400      96.570000       77.129799  \n",
      "1528968840      485.75000       26.994646      96.500000        7.216067  \n",
      "1528968900      486.00000       77.355759      96.389999      524.539978  \n",
      "1528968960      486.00000        7.503300      96.519997       16.991997  \n"
     ]
    }
   ],
   "source": [
    "# Verify if the function works as expected:\n",
    "main_dataset = merge_datasets(ratios,path)\n",
    "print(main_dataset.head())\n"
   ]
  },
  {
   "cell_type": "markdown",
   "metadata": {},
   "source": [
    "as we can see, we already sucessfully merge the data from the different crypocurrencies datasets, know we need to perform \n",
    "define our inputs and targets, and then apply some normalization to the input data"
   ]
  },
  {
   "cell_type": "markdown",
   "metadata": {},
   "source": [
    "## Target Definition\n",
    "\n",
    "Since RNN uses sequential data, we need to prepare our target vector considering the length of the sequence that we will use \n",
    "as input, the cryptocurrency that we want to predict and finally the temporary window behaviour (up/down) that we want to predict"
   ]
  },
  {
   "cell_type": "code",
   "execution_count": null,
   "metadata": {},
   "outputs": [],
   "source": []
  }
 ],
 "metadata": {
  "kernelspec": {
   "display_name": "Python 3",
   "language": "python",
   "name": "python3"
  },
  "language_info": {
   "codemirror_mode": {
    "name": "ipython",
    "version": 3
   },
   "file_extension": ".py",
   "mimetype": "text/x-python",
   "name": "python",
   "nbconvert_exporter": "python",
   "pygments_lexer": "ipython3",
   "version": "3.6.6"
  }
 },
 "nbformat": 4,
 "nbformat_minor": 2
}
